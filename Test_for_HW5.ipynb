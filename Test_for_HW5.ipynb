{
 "cells": [
  {
   "cell_type": "code",
   "execution_count": 13,
   "metadata": {
    "collapsed": false
   },
   "outputs": [
    {
     "ename": "AssertionError",
     "evalue": "Error: population must be an integer.",
     "output_type": "error",
     "traceback": [
      "\u001b[0;31m---------------------------------------------------------------------------\u001b[0m",
      "\u001b[0;31mAssertionError\u001b[0m                            Traceback (most recent call last)",
      "\u001b[0;32m<ipython-input-13-2b7557244eed>\u001b[0m in \u001b[0;36m<module>\u001b[0;34m()\u001b[0m\n\u001b[1;32m     12\u001b[0m \u001b[0mpink_frac\u001b[0m \u001b[0;34m=\u001b[0m \u001b[0;36m0.18\u001b[0m\u001b[0;34m\u001b[0m\u001b[0m\n\u001b[1;32m     13\u001b[0m \u001b[0mestimator\u001b[0m\u001b[0;34m.\u001b[0m\u001b[0mset_land_frac_for_sugar\u001b[0m\u001b[0;34m(\u001b[0m\u001b[0mland_frac\u001b[0m\u001b[0;34m)\u001b[0m\u001b[0;34m\u001b[0m\u001b[0m\n\u001b[0;32m---> 14\u001b[0;31m \u001b[0mestimator\u001b[0m\u001b[0;34m.\u001b[0m\u001b[0mset_world_pop\u001b[0m\u001b[0;34m(\u001b[0m\u001b[0mppl\u001b[0m\u001b[0;34m)\u001b[0m\u001b[0;34m\u001b[0m\u001b[0m\n\u001b[0m\u001b[1;32m     15\u001b[0m \u001b[0mestimator\u001b[0m\u001b[0;34m.\u001b[0m\u001b[0mset_frac_ppl_loving_pink\u001b[0m\u001b[0;34m(\u001b[0m\u001b[0mpink_frac\u001b[0m\u001b[0;34m)\u001b[0m\u001b[0;34m\u001b[0m\u001b[0m\n\u001b[1;32m     16\u001b[0m \u001b[0;34m\u001b[0m\u001b[0m\n",
      "\u001b[0;32m/Users/macuser/NE24/JellyBeanCodeHW5/JellyBeanCode/EstNumJellyBeans.py\u001b[0m in \u001b[0;36mset_world_pop\u001b[0;34m(self, people)\u001b[0m\n\u001b[1;32m     47\u001b[0m         \u001b[0;31m# NE24: Add a test for type here\u001b[0m\u001b[0;34m\u001b[0m\u001b[0;34m\u001b[0m\u001b[0m\n\u001b[1;32m     48\u001b[0m         \u001b[0;32massert\u001b[0m \u001b[0mtype\u001b[0m\u001b[0;34m(\u001b[0m\u001b[0mpeople\u001b[0m\u001b[0;34m)\u001b[0m \u001b[0;32mis\u001b[0m \u001b[0mint\u001b[0m\u001b[0;34m,\u001b[0m\u001b[0;31m \u001b[0m\u001b[0;31m\\\u001b[0m\u001b[0;34m\u001b[0m\u001b[0m\n\u001b[0;32m---> 49\u001b[0;31m             \u001b[0;34m\"Error: population must be an integer.\"\u001b[0m\u001b[0;34m\u001b[0m\u001b[0m\n\u001b[0m\u001b[1;32m     50\u001b[0m \u001b[0;34m\u001b[0m\u001b[0m\n\u001b[1;32m     51\u001b[0m         \u001b[0;31m# NE24: Add a test for value here\u001b[0m\u001b[0;34m\u001b[0m\u001b[0;34m\u001b[0m\u001b[0m\n",
      "\u001b[0;31mAssertionError\u001b[0m: Error: population must be an integer."
     ]
    }
   ],
   "source": [
    "# Test 1\n",
    "\n",
    "#!/Users/slayer/Software/Install/anaconda2/bin/python\n",
    "\n",
    "import EstNumJellyBeans as jelly\n",
    "\n",
    "# Get a jelly bean estimator\n",
    "estimator = jelly.NumJellyEstimator()\n",
    "\n",
    "# Set the fraction of land being used for sugar, the world population,\n",
    "# and the fraction of the population that loves pink.\n",
    "land_frac = 0.1\n",
    "ppl = \"7 billion\"\n",
    "pink_frac = 0.18\n",
    "estimator.set_land_frac_for_sugar(land_frac)\n",
    "estimator.set_world_pop(ppl)\n",
    "estimator.set_frac_ppl_loving_pink(pink_frac)\n",
    "\n",
    "# Get the estimate of the number of jelly beans in the world,\n",
    "# and report the result given the input.\n",
    "est = estimator.compute_Njelly_est()\n",
    "\n",
    "print (\"\\nIt is estimated that when\\n\", land_frac*100, \"percent\\nof the land is\"+\\\n",
    "      \" used for sugar and\\n\", pink_frac*100, \"percent of\", int(ppl), \\\n",
    "      \"people\\nLOVE pink, then there are\\n\", est, \"\\nJelly Beans in the world.\")"
   ]
  },
  {
   "cell_type": "code",
   "execution_count": 21,
   "metadata": {
    "collapsed": false
   },
   "outputs": [
    {
     "name": "stdout",
     "output_type": "stream",
     "text": [
      "Error: There are approximately 7 Billion people in the world\n"
     ]
    },
    {
     "ename": "SystemExit",
     "evalue": "",
     "output_type": "error",
     "traceback": [
      "An exception has occurred, use %tb to see the full traceback.\n",
      "\u001b[0;31mSystemExit\u001b[0m\n"
     ]
    },
    {
     "name": "stderr",
     "output_type": "stream",
     "text": [
      "/Users/macuser/anaconda/lib/python3.6/site-packages/IPython/core/interactiveshell.py:2889: UserWarning: To exit: use 'exit', 'quit', or Ctrl-D.\n",
      "  warn(\"To exit: use 'exit', 'quit', or Ctrl-D.\", stacklevel=1)\n"
     ]
    }
   ],
   "source": [
    "# Test 2\n",
    "\n",
    "#!/Users/slayer/Software/Install/anaconda2/bin/python\n",
    "\n",
    "import EstNumJellyBeans as jelly\n",
    "\n",
    "# Get a jelly bean estimator\n",
    "estimator = jelly.NumJellyEstimator()\n",
    "\n",
    "# Set the fraction of land being used for sugar, the world population,\n",
    "# and the fraction of the population that loves pink.\n",
    "land_frac = 0.1\n",
    "ppl = 10\n",
    "pink_frac = 0.18\n",
    "estimator.set_land_frac_for_sugar(land_frac)\n",
    "estimator.set_world_pop(ppl)\n",
    "estimator.set_frac_ppl_loving_pink(pink_frac)\n",
    "\n",
    "# Get the estimate of the number of jelly beans in the world,\n",
    "# and report the result given the input.\n",
    "est = estimator.compute_Njelly_est()\n",
    "\n",
    "print (\"\\nIt is estimated that when\\n\", land_frac*100, \"percent\\nof the land is\"+\\\n",
    "      \" used for sugar and\\n\", pink_frac*100, \"percent of\", int(ppl), \\\n",
    "      \"people\\nLOVE pink, then there are\\n\", est, \"\\nJelly Beans in the world.\")"
   ]
  },
  {
   "cell_type": "code",
   "execution_count": 17,
   "metadata": {
    "collapsed": false
   },
   "outputs": [
    {
     "ename": "AssertionError",
     "evalue": "Error: fraction of land set must be a float.",
     "output_type": "error",
     "traceback": [
      "\u001b[0;31m---------------------------------------------------------------------------\u001b[0m",
      "\u001b[0;31mAssertionError\u001b[0m                            Traceback (most recent call last)",
      "\u001b[0;32m<ipython-input-17-b1c66435593e>\u001b[0m in \u001b[0;36m<module>\u001b[0;34m()\u001b[0m\n\u001b[1;32m     15\u001b[0m \u001b[0mestimator\u001b[0m\u001b[0;34m.\u001b[0m\u001b[0mset_land_frac_for_sugar\u001b[0m\u001b[0;34m(\u001b[0m\u001b[0mland_frac\u001b[0m\u001b[0;34m)\u001b[0m\u001b[0;34m\u001b[0m\u001b[0m\n\u001b[1;32m     16\u001b[0m \u001b[0mestimator\u001b[0m\u001b[0;34m.\u001b[0m\u001b[0mset_world_pop\u001b[0m\u001b[0;34m(\u001b[0m\u001b[0mppl\u001b[0m\u001b[0;34m)\u001b[0m\u001b[0;34m\u001b[0m\u001b[0m\n\u001b[0;32m---> 17\u001b[0;31m \u001b[0mestimator\u001b[0m\u001b[0;34m.\u001b[0m\u001b[0mset_frac_ppl_loving_pink\u001b[0m\u001b[0;34m(\u001b[0m\u001b[0mpink_frac\u001b[0m\u001b[0;34m)\u001b[0m\u001b[0;34m\u001b[0m\u001b[0m\n\u001b[0m\u001b[1;32m     18\u001b[0m \u001b[0;34m\u001b[0m\u001b[0m\n\u001b[1;32m     19\u001b[0m \u001b[0;31m# Get the estimate of the number of jelly beans in the world,\u001b[0m\u001b[0;34m\u001b[0m\u001b[0;34m\u001b[0m\u001b[0m\n",
      "\u001b[0;32m/Users/macuser/NE24/JellyBeanCodeHW5/JellyBeanCode/EstNumJellyBeans.py\u001b[0m in \u001b[0;36mset_frac_ppl_loving_pink\u001b[0;34m(self, frac)\u001b[0m\n\u001b[1;32m     63\u001b[0m         \u001b[0;31m# NE24: Add a test for type here\u001b[0m\u001b[0;34m\u001b[0m\u001b[0;34m\u001b[0m\u001b[0m\n\u001b[1;32m     64\u001b[0m         \u001b[0;32massert\u001b[0m \u001b[0mtype\u001b[0m\u001b[0;34m(\u001b[0m\u001b[0mfrac\u001b[0m\u001b[0;34m)\u001b[0m \u001b[0;32mis\u001b[0m \u001b[0mfloat\u001b[0m\u001b[0;34m,\u001b[0m\u001b[0;31m \u001b[0m\u001b[0;31m\\\u001b[0m\u001b[0;34m\u001b[0m\u001b[0m\n\u001b[0;32m---> 65\u001b[0;31m             \u001b[0;34m\"Error: fraction of land set must be a float.\"\u001b[0m\u001b[0;34m\u001b[0m\u001b[0m\n\u001b[0m\u001b[1;32m     66\u001b[0m \u001b[0;34m\u001b[0m\u001b[0m\n\u001b[1;32m     67\u001b[0m         \u001b[0;31m# NE24: Add a test for value here\u001b[0m\u001b[0;34m\u001b[0m\u001b[0;34m\u001b[0m\u001b[0m\n",
      "\u001b[0;31mAssertionError\u001b[0m: Error: fraction of land set must be a float."
     ]
    }
   ],
   "source": [
    "# Test 3\n",
    "\n",
    "#!/Users/slayer/Software/Install/anaconda2/bin/python\n",
    "\n",
    "import EstNumJellyBeans as jelly\n",
    "\n",
    "# Get a jelly bean estimator\n",
    "estimator = jelly.NumJellyEstimator()\n",
    "\n",
    "# Set the fraction of land being used for sugar, the world population,\n",
    "# and the fraction of the population that loves pink.\n",
    "land_frac = 0.1\n",
    "ppl = 7000000000\n",
    "pink_frac = 5\n",
    "estimator.set_land_frac_for_sugar(land_frac)\n",
    "estimator.set_world_pop(ppl)\n",
    "estimator.set_frac_ppl_loving_pink(pink_frac)\n",
    "\n",
    "# Get the estimate of the number of jelly beans in the world,\n",
    "# and report the result given the input.\n",
    "est = estimator.compute_Njelly_est()\n",
    "\n",
    "print (\"\\nIt is estimated that when\\n\", land_frac*100, \"percent\\nof the land is\"+\\\n",
    "      \" used for sugar and\\n\", pink_frac*100, \"percent of\", int(ppl), \\\n",
    "      \"people\\nLOVE pink, then there are\\n\", est, \"\\nJelly Beans in the world.\")"
   ]
  },
  {
   "cell_type": "code",
   "execution_count": 20,
   "metadata": {
    "collapsed": false
   },
   "outputs": [
    {
     "name": "stdout",
     "output_type": "stream",
     "text": [
      "Error: There should be at least one person who loves pink.\n"
     ]
    },
    {
     "ename": "SystemExit",
     "evalue": "",
     "output_type": "error",
     "traceback": [
      "An exception has occurred, use %tb to see the full traceback.\n",
      "\u001b[0;31mSystemExit\u001b[0m\n"
     ]
    },
    {
     "name": "stderr",
     "output_type": "stream",
     "text": [
      "/Users/macuser/anaconda/lib/python3.6/site-packages/IPython/core/interactiveshell.py:2889: UserWarning: To exit: use 'exit', 'quit', or Ctrl-D.\n",
      "  warn(\"To exit: use 'exit', 'quit', or Ctrl-D.\", stacklevel=1)\n"
     ]
    }
   ],
   "source": [
    "# Test 4\n",
    "\n",
    "#!/Users/slayer/Software/Install/anaconda2/bin/python\n",
    "\n",
    "import EstNumJellyBeans as jelly\n",
    "\n",
    "# Get a jelly bean estimator\n",
    "estimator = jelly.NumJellyEstimator()\n",
    "\n",
    "# Set the fraction of land being used for sugar, the world population,\n",
    "# and the fraction of the population that loves pink.\n",
    "land_frac = 0.1\n",
    "ppl = 7000000000\n",
    "pink_frac = 0.0\n",
    "estimator.set_land_frac_for_sugar(land_frac)\n",
    "estimator.set_world_pop(ppl)\n",
    "estimator.set_frac_ppl_loving_pink(pink_frac)\n",
    "\n",
    "# Get the estimate of the number of jelly beans in the world,\n",
    "# and report the result given the input.\n",
    "est = estimator.compute_Njelly_est()\n",
    "\n",
    "print (\"\\nIt is estimated that when\\n\", land_frac*100, \"percent\\nof the land is\"+\\\n",
    "      \" used for sugar and\\n\", pink_frac*100, \"percent of\", int(ppl), \\\n",
    "      \"people\\nLOVE pink, then there are\\n\", est, \"\\nJelly Beans in the world.\")"
   ]
  },
  {
   "cell_type": "code",
   "execution_count": null,
   "metadata": {
    "collapsed": true
   },
   "outputs": [],
   "source": []
  },
  {
   "cell_type": "code",
   "execution_count": null,
   "metadata": {
    "collapsed": true
   },
   "outputs": [],
   "source": []
  },
  {
   "cell_type": "code",
   "execution_count": null,
   "metadata": {
    "collapsed": true
   },
   "outputs": [],
   "source": []
  },
  {
   "cell_type": "code",
   "execution_count": null,
   "metadata": {
    "collapsed": true
   },
   "outputs": [],
   "source": []
  },
  {
   "cell_type": "code",
   "execution_count": null,
   "metadata": {
    "collapsed": true
   },
   "outputs": [],
   "source": []
  },
  {
   "cell_type": "code",
   "execution_count": null,
   "metadata": {
    "collapsed": true
   },
   "outputs": [],
   "source": []
  },
  {
   "cell_type": "code",
   "execution_count": null,
   "metadata": {
    "collapsed": true
   },
   "outputs": [],
   "source": []
  },
  {
   "cell_type": "code",
   "execution_count": null,
   "metadata": {
    "collapsed": true
   },
   "outputs": [],
   "source": []
  },
  {
   "cell_type": "code",
   "execution_count": null,
   "metadata": {
    "collapsed": true
   },
   "outputs": [],
   "source": []
  }
 ],
 "metadata": {
  "kernelspec": {
   "display_name": "Python 3",
   "language": "python",
   "name": "python3"
  },
  "language_info": {
   "codemirror_mode": {
    "name": "ipython",
    "version": 3
   },
   "file_extension": ".py",
   "mimetype": "text/x-python",
   "name": "python",
   "nbconvert_exporter": "python",
   "pygments_lexer": "ipython3",
   "version": "3.6.0"
  }
 },
 "nbformat": 4,
 "nbformat_minor": 2
}
